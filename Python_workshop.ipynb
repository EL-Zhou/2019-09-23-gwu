{
  "nbformat": 4,
  "nbformat_minor": 0,
  "metadata": {
    "colab": {
      "name": "Python workshop.ipynb",
      "provenance": [],
      "collapsed_sections": [
        "cBRuUUgb3--9",
        "HLItTaYq3-_G",
        "1iLUd1sm3-_W",
        "CjjDvjIM3-_l",
        "vx4AjHrt3-_m",
        "68-RHxdY3-_w",
        "frfNuKfY3-_6",
        "4OepVVOi3_AQ",
        "g9N_jn5N3_Ab",
        "oJE-7t2j3_Aj"
      ],
      "include_colab_link": true
    },
    "kernelspec": {
      "display_name": "Python 3",
      "language": "python",
      "name": "python3"
    }
  },
  "cells": [
    {
      "cell_type": "markdown",
      "metadata": {
        "id": "view-in-github",
        "colab_type": "text"
      },
      "source": [
        "<a href=\"https://colab.research.google.com/github/Ek-zhou/2019-09-23-gwu/blob/gh-pages/Python_workshop.ipynb\" target=\"_parent\"><img src=\"https://colab.research.google.com/assets/colab-badge.svg\" alt=\"Open In Colab\"/></a>"
      ]
    },
    {
      "cell_type": "markdown",
      "metadata": {
        "collapsed": true,
        "id": "VCn4ocPf3-9g",
        "colab_type": "text"
      },
      "source": [
        "# Welcome to the **GW Libraries Programming with Python workshop.**\n",
        "\n",
        "## Quick tips\n",
        "\n",
        "When working in a Google Colaboratory notebook, **Shift-Return (Shift-Enter)** runs the cell you're on.  You can also run the cell using the \"Play\" button at the left edge of the cell.\n",
        "\n",
        "There are many other keyboard shortcuts.  You can access the list via the menu bar, at **Tools-->Command palette**.  In fact, you can even customize your keyboard shortcuts using **Tools-->Keyboard shortcuts**.\n",
        "\n",
        "### If you're working in Google Colab:\n",
        "- Shift-Return (Shift-Enter) runs the cell you're on.  You can also run the cell using the \"Play\" button in the toolbar.\n",
        "- Alt-Return (Alt-Enter) runs the cell you're on and inserts a new cell below.\n",
        "- More shortcuts under Tools --> Keyboard Shortcuts\n",
        "\n",
        "### If you're working in an Anaconda/Jupyter notebook:\n",
        "- Shift-Return (Shift-Enter) runs the cell you're on.  You can also run the cell using the \"Play\" button in the toolbar.\n",
        "- Esc, then A inserts a cell above where you are.\n",
        "- Esc, then B inserts a cell below where you are.\n",
        "- More shortcuts under Help --> Keyboard Shortcuts\n",
        "\n",
        "\n",
        "You will probably get some errors in working through this notebook.  That's okay, you can just go back and change the cell and re-run it.\n",
        "\n",
        "The notebook auto-saves as you work, just like gmail and most Google apps.\n",
        "\n",
        "\n",
        "\n",
        "\n",
        "\n",
        "# Variables\n",
        "\n",
        "The first thing we're going to do is to learn about **variables**.  Variables are a way to store values that can be numbers, text, lists, boolean (true/false), etc.\n",
        "\n",
        "Much like in algebra, you set the value of a variable using what looks like an equation.\n",
        "\n",
        "To run this next cell, click on it and either press Shift-Enter, or press the Play (\"run cell\") button in the toolbar."
      ]
    },
    {
      "cell_type": "code",
      "metadata": {
        "id": "Hih5T6rp3-9h",
        "colab_type": "code",
        "colab": {}
      },
      "source": [
        "price = 7.99"
      ],
      "execution_count": 0,
      "outputs": []
    },
    {
      "cell_type": "markdown",
      "metadata": {
        "id": "RG28W_Rp3-9l",
        "colab_type": "text"
      },
      "source": [
        "So let's see the effect of that, by having Python **evaluate** our variable called `price`.  Again, press Shift-Enter, or press the Play (\"run cell\") button in the toolbar."
      ]
    },
    {
      "cell_type": "code",
      "metadata": {
        "id": "escqhnnT3-9m",
        "colab_type": "code",
        "colab": {
          "base_uri": "https://localhost:8080/",
          "height": 34
        },
        "outputId": "13992d6b-8a67-446b-832a-1897e3759fd8"
      },
      "source": [
        "price"
      ],
      "execution_count": 6,
      "outputs": [
        {
          "output_type": "execute_result",
          "data": {
            "text/plain": [
              "7.99"
            ]
          },
          "metadata": {
            "tags": []
          },
          "execution_count": 6
        }
      ]
    },
    {
      "cell_type": "markdown",
      "metadata": {
        "id": "mIfP3fMy3-9p",
        "colab_type": "text"
      },
      "source": [
        "Next, set the value of a new variable to your name.   A couple of things you'll need to know:\n",
        "* Variable names can't contain spaces or special characters (except `_` )\n",
        "* String values (like words or text) must be contained in a pair of either matching single quotes or matching double quotes.  For example:  `'This is some text'` or `\"This is some text\"`"
      ]
    },
    {
      "cell_type": "code",
      "metadata": {
        "id": "BG1S-FXf3-9q",
        "colab_type": "code",
        "colab": {
          "base_uri": "https://localhost:8080/",
          "height": 164
        },
        "outputId": "1b598faf-8777-437b-9f57-92fbc9ae790a"
      },
      "source": [
        "quantity"
      ],
      "execution_count": 7,
      "outputs": [
        {
          "output_type": "error",
          "ename": "NameError",
          "evalue": "ignored",
          "traceback": [
            "\u001b[0;31m---------------------------------------------------------------------------\u001b[0m",
            "\u001b[0;31mNameError\u001b[0m                                 Traceback (most recent call last)",
            "\u001b[0;32m<ipython-input-7-6f6504d88b99>\u001b[0m in \u001b[0;36m<module>\u001b[0;34m()\u001b[0m\n\u001b[0;32m----> 1\u001b[0;31m \u001b[0mquantity\u001b[0m\u001b[0;34m\u001b[0m\u001b[0;34m\u001b[0m\u001b[0m\n\u001b[0m",
            "\u001b[0;31mNameError\u001b[0m: name 'quantity' is not defined"
          ]
        }
      ]
    },
    {
      "cell_type": "code",
      "metadata": {
        "id": "PSv1a1_v3-9t",
        "colab_type": "code",
        "colab": {}
      },
      "source": [
        "name = 'nopi'"
      ],
      "execution_count": 0,
      "outputs": []
    },
    {
      "cell_type": "markdown",
      "metadata": {
        "id": "lejV-TVE3-9w",
        "colab_type": "text"
      },
      "source": [
        "If you have another language installed on your computer (Chinese, Arabic, etc.), try using foreign characters in your string.  Python handles these well.\n",
        "\n",
        "An example might be: \n",
        "\n",
        "```\n",
        "someText = 'سلام'\n",
        "```\n",
        "\n"
      ]
    },
    {
      "cell_type": "code",
      "metadata": {
        "id": "wm-rlMl03-9x",
        "colab_type": "code",
        "colab": {}
      },
      "source": [
        "quantity  = 180\n",
        "extended_prince = price * quantity"
      ],
      "execution_count": 0,
      "outputs": []
    },
    {
      "cell_type": "code",
      "metadata": {
        "id": "X2r7SBUfYj0O",
        "colab_type": "code",
        "colab": {
          "base_uri": "https://localhost:8080/",
          "height": 34
        },
        "outputId": "f2cb333b-0054-449e-dfc8-5c2c743073e8"
      },
      "source": [
        "extended_prince"
      ],
      "execution_count": 12,
      "outputs": [
        {
          "output_type": "execute_result",
          "data": {
            "text/plain": [
              "1438.2"
            ]
          },
          "metadata": {
            "tags": []
          },
          "execution_count": 12
        }
      ]
    },
    {
      "cell_type": "code",
      "metadata": {
        "id": "xy5RDm9kioaG",
        "colab_type": "code",
        "colab": {
          "base_uri": "https://localhost:8080/",
          "height": 34
        },
        "outputId": "f0801198-2cb4-4527-8b0f-2a8b1a4176e3"
      },
      "source": [
        "name * 4"
      ],
      "execution_count": 15,
      "outputs": [
        {
          "output_type": "execute_result",
          "data": {
            "text/plain": [
              "'nopinopinopinopi'"
            ]
          },
          "metadata": {
            "tags": []
          },
          "execution_count": 15
        }
      ]
    },
    {
      "cell_type": "code",
      "metadata": {
        "id": "iTKYNFxti3fE",
        "colab_type": "code",
        "colab": {
          "base_uri": "https://localhost:8080/",
          "height": 34
        },
        "outputId": "2e1c7f8e-2ab8-4b04-a354-b42c024c84e6"
      },
      "source": [
        "str(454)"
      ],
      "execution_count": 16,
      "outputs": [
        {
          "output_type": "execute_result",
          "data": {
            "text/plain": [
              "'454'"
            ]
          },
          "metadata": {
            "tags": []
          },
          "execution_count": 16
        }
      ]
    },
    {
      "cell_type": "code",
      "metadata": {
        "id": "4gidesg-ioim",
        "colab_type": "code",
        "colab": {
          "base_uri": "https://localhost:8080/",
          "height": 34
        },
        "outputId": "bd7388b5-d04b-4a80-d199-f7d40a520d1a"
      },
      "source": [
        "type(price)"
      ],
      "execution_count": 17,
      "outputs": [
        {
          "output_type": "execute_result",
          "data": {
            "text/plain": [
              "float"
            ]
          },
          "metadata": {
            "tags": []
          },
          "execution_count": 17
        }
      ]
    },
    {
      "cell_type": "code",
      "metadata": {
        "id": "0m4_90yIiolH",
        "colab_type": "code",
        "colab": {
          "base_uri": "https://localhost:8080/",
          "height": 34
        },
        "outputId": "6ca046e9-4e9e-4ce7-9969-43dd8726b802"
      },
      "source": [
        "type(name)"
      ],
      "execution_count": 18,
      "outputs": [
        {
          "output_type": "execute_result",
          "data": {
            "text/plain": [
              "str"
            ]
          },
          "metadata": {
            "tags": []
          },
          "execution_count": 18
        }
      ]
    },
    {
      "cell_type": "code",
      "metadata": {
        "id": "3QTtF6Wsion6",
        "colab_type": "code",
        "colab": {
          "base_uri": "https://localhost:8080/",
          "height": 34
        },
        "outputId": "d2e1284a-e841-4a51-ee79-c70c9cb08f90"
      },
      "source": [
        "type(quantity)"
      ],
      "execution_count": 19,
      "outputs": [
        {
          "output_type": "execute_result",
          "data": {
            "text/plain": [
              "int"
            ]
          },
          "metadata": {
            "tags": []
          },
          "execution_count": 19
        }
      ]
    },
    {
      "cell_type": "code",
      "metadata": {
        "id": "XHSSqspGioqv",
        "colab_type": "code",
        "colab": {}
      },
      "source": [
        "awsome = True"
      ],
      "execution_count": 0,
      "outputs": []
    },
    {
      "cell_type": "code",
      "metadata": {
        "id": "p_02e4vqiotP",
        "colab_type": "code",
        "colab": {
          "base_uri": "https://localhost:8080/",
          "height": 34
        },
        "outputId": "9ef888bc-c226-484d-dcb6-ed35a167a9fe"
      },
      "source": [
        "type (awsome)"
      ],
      "execution_count": 22,
      "outputs": [
        {
          "output_type": "execute_result",
          "data": {
            "text/plain": [
              "bool"
            ]
          },
          "metadata": {
            "tags": []
          },
          "execution_count": 22
        }
      ]
    },
    {
      "cell_type": "code",
      "metadata": {
        "id": "MdFJLVJaiowI",
        "colab_type": "code",
        "colab": {
          "base_uri": "https://localhost:8080/",
          "height": 34
        },
        "outputId": "7bfc28da-ccd8-4e36-87f2-25d07de84b35"
      },
      "source": [
        "price >4.8"
      ],
      "execution_count": 23,
      "outputs": [
        {
          "output_type": "execute_result",
          "data": {
            "text/plain": [
              "True"
            ]
          },
          "metadata": {
            "tags": []
          },
          "execution_count": 23
        }
      ]
    },
    {
      "cell_type": "code",
      "metadata": {
        "id": "kCGOgC-ukcgI",
        "colab_type": "code",
        "colab": {}
      },
      "source": [
        "price_is_high = (price >4.8)"
      ],
      "execution_count": 0,
      "outputs": []
    },
    {
      "cell_type": "code",
      "metadata": {
        "id": "hxFL2uvzkcjP",
        "colab_type": "code",
        "colab": {
          "base_uri": "https://localhost:8080/",
          "height": 34
        },
        "outputId": "1da7777f-8e3a-48af-fbe6-09977836f50c"
      },
      "source": [
        "price_is_high"
      ],
      "execution_count": 25,
      "outputs": [
        {
          "output_type": "execute_result",
          "data": {
            "text/plain": [
              "True"
            ]
          },
          "metadata": {
            "tags": []
          },
          "execution_count": 25
        }
      ]
    },
    {
      "cell_type": "code",
      "metadata": {
        "id": "-5p2GzIYkcmE",
        "colab_type": "code",
        "colab": {
          "base_uri": "https://localhost:8080/",
          "height": 34
        },
        "outputId": "6728c92d-b86c-4a72-ff67-473e0f1e6347"
      },
      "source": [
        "name == 'Dan'"
      ],
      "execution_count": 26,
      "outputs": [
        {
          "output_type": "execute_result",
          "data": {
            "text/plain": [
              "False"
            ]
          },
          "metadata": {
            "tags": []
          },
          "execution_count": 26
        }
      ]
    },
    {
      "cell_type": "code",
      "metadata": {
        "id": "-vj8jMcVkcot",
        "colab_type": "code",
        "colab": {}
      },
      "source": [
        ""
      ],
      "execution_count": 0,
      "outputs": []
    },
    {
      "cell_type": "code",
      "metadata": {
        "id": "rC8Z2P3Lkcrb",
        "colab_type": "code",
        "colab": {}
      },
      "source": [
        ""
      ],
      "execution_count": 0,
      "outputs": []
    },
    {
      "cell_type": "code",
      "metadata": {
        "id": "VLyQ6khxkcuA",
        "colab_type": "code",
        "colab": {}
      },
      "source": [
        ""
      ],
      "execution_count": 0,
      "outputs": []
    },
    {
      "cell_type": "code",
      "metadata": {
        "id": "_BdV5r2Ykcww",
        "colab_type": "code",
        "colab": {}
      },
      "source": [
        ""
      ],
      "execution_count": 0,
      "outputs": []
    },
    {
      "cell_type": "code",
      "metadata": {
        "id": "pvfPtfa2kczY",
        "colab_type": "code",
        "colab": {}
      },
      "source": [
        ""
      ],
      "execution_count": 0,
      "outputs": []
    },
    {
      "cell_type": "code",
      "metadata": {
        "id": "-zLPsqSKkc2B",
        "colab_type": "code",
        "colab": {}
      },
      "source": [
        ""
      ],
      "execution_count": 0,
      "outputs": []
    },
    {
      "cell_type": "code",
      "metadata": {
        "id": "sXLm5FImkc4W",
        "colab_type": "code",
        "colab": {}
      },
      "source": [
        ""
      ],
      "execution_count": 0,
      "outputs": []
    },
    {
      "cell_type": "code",
      "metadata": {
        "id": "F-Uhj1eQioyi",
        "colab_type": "code",
        "colab": {}
      },
      "source": [
        ""
      ],
      "execution_count": 0,
      "outputs": []
    },
    {
      "cell_type": "markdown",
      "metadata": {
        "id": "KE4xtx2P3-90",
        "colab_type": "text"
      },
      "source": [
        "What if we wanted to do some simple math using these variables?\n",
        "\n",
        "* Create a new variable called `quantity` and set it to a number.\n",
        "* Create another new variable called `extended_price` and set it to the product of price \\* quantity (use `*` for multiplying)\n"
      ]
    },
    {
      "cell_type": "code",
      "metadata": {
        "id": "02eJwKZG3-91",
        "colab_type": "code",
        "colab": {}
      },
      "source": [
        ""
      ],
      "execution_count": 0,
      "outputs": []
    },
    {
      "cell_type": "markdown",
      "metadata": {
        "id": "WGwHjIGQ3-94",
        "colab_type": "text"
      },
      "source": [
        "What happens if you try multiplying the name variable by 4?"
      ]
    },
    {
      "cell_type": "code",
      "metadata": {
        "id": "rxnXu5X83-95",
        "colab_type": "code",
        "colab": {}
      },
      "source": [
        ""
      ],
      "execution_count": 0,
      "outputs": []
    },
    {
      "cell_type": "markdown",
      "metadata": {
        "id": "C7AwupUb3-98",
        "colab_type": "text"
      },
      "source": [
        "How about if you *divide* it by 2?  Add a number to it?  Add another name to it (using `+`)?"
      ]
    },
    {
      "cell_type": "code",
      "metadata": {
        "id": "Tzo39Wuw3-9_",
        "colab_type": "code",
        "colab": {}
      },
      "source": [
        ""
      ],
      "execution_count": 0,
      "outputs": []
    },
    {
      "cell_type": "markdown",
      "metadata": {
        "id": "Xm-RztaA3--C",
        "colab_type": "text"
      },
      "source": [
        "What we're starting to see here is that Python has different **types** for numbers, text, and more.  You can find out the type of a variable by using:\n",
        "\n",
        "**`type(`**put your variable here**`)`** \n",
        "\n",
        "Try it."
      ]
    },
    {
      "cell_type": "code",
      "metadata": {
        "id": "sYpL6SxR3--D",
        "colab_type": "code",
        "colab": {}
      },
      "source": [
        ""
      ],
      "execution_count": 0,
      "outputs": []
    },
    {
      "cell_type": "markdown",
      "metadata": {
        "id": "arl0WWLQ3--F",
        "colab_type": "text"
      },
      "source": [
        "Numbers, by the way, aren't just numbers.  Look at the type of the `price` variable versus another variable set to `7`.\n",
        "\n",
        "You can even re-assign an existing variable to new type.  Try it!"
      ]
    },
    {
      "cell_type": "code",
      "metadata": {
        "id": "xWcahPaM3--I",
        "colab_type": "code",
        "colab": {}
      },
      "source": [
        ""
      ],
      "execution_count": 0,
      "outputs": []
    },
    {
      "cell_type": "markdown",
      "metadata": {
        "id": "w_GGZDIm3--L",
        "colab_type": "text"
      },
      "source": [
        "There's also another important basic variable type, called a **boolean** variable.  Booleans can have a value of **`True`** or **`False`** (capitalized, in Python)\n",
        "\n",
        "Create a variable called `gwstudent` and assign its value to `True`:"
      ]
    },
    {
      "cell_type": "code",
      "metadata": {
        "id": "fmoWI8iJ3--L",
        "colab_type": "code",
        "colab": {}
      },
      "source": [
        ""
      ],
      "execution_count": 0,
      "outputs": []
    },
    {
      "cell_type": "markdown",
      "metadata": {
        "id": "ZELnzZg83--N",
        "colab_type": "text"
      },
      "source": [
        "Now evaluate the `type()` of gwstudent."
      ]
    },
    {
      "cell_type": "code",
      "metadata": {
        "id": "OdJNjqCq3--O",
        "colab_type": "code",
        "colab": {}
      },
      "source": [
        ""
      ],
      "execution_count": 0,
      "outputs": []
    },
    {
      "cell_type": "markdown",
      "metadata": {
        "id": "jpIN2CC53--P",
        "colab_type": "text"
      },
      "source": [
        "#### Comparison operators:  <, >, ==, !=, <=, >=, and, or, not, ...\n",
        "\n",
        "Try out some comparisons, for example, whether:\n",
        "* `price` is greater than 5.99\n",
        "* `name` is equal to \"Dan\""
      ]
    },
    {
      "cell_type": "code",
      "metadata": {
        "id": "qUm9mdD03--R",
        "colab_type": "code",
        "colab": {}
      },
      "source": [
        ""
      ],
      "execution_count": 0,
      "outputs": []
    },
    {
      "cell_type": "markdown",
      "metadata": {
        "id": "oe-XFxuD3--T",
        "colab_type": "text"
      },
      "source": [
        "# Lists and Tuples"
      ]
    },
    {
      "cell_type": "markdown",
      "metadata": {
        "id": "Ay50GND03--U",
        "colab_type": "text"
      },
      "source": [
        "**Lists** in Python hold an _ordered_ sequence of elements, like this:\n",
        "\n",
        "`states = ['Virginia', 'Maryland', 'New Jersey', 'Utah', 'Rhode Island']`\n",
        "\n",
        "Try creating a list of several countries."
      ]
    },
    {
      "cell_type": "code",
      "metadata": {
        "id": "Tj5OYx1F3--V",
        "colab_type": "code",
        "colab": {}
      },
      "source": [
        "countries = ['Canada','UK','USA','Japan','Korea']"
      ],
      "execution_count": 0,
      "outputs": []
    },
    {
      "cell_type": "markdown",
      "metadata": {
        "id": "-YGuf5dq3--Y",
        "colab_type": "text"
      },
      "source": [
        "We can access the n'th element of a list using the `mylist[n]` notation.\n",
        "\n",
        "Try retrieving the first country in the list you created above."
      ]
    },
    {
      "cell_type": "code",
      "metadata": {
        "id": "V6YHSvmA3--Z",
        "colab_type": "code",
        "colab": {
          "base_uri": "https://localhost:8080/",
          "height": 34
        },
        "outputId": "092c32c4-c2c0-4051-82b0-b11fcf8232ae"
      },
      "source": [
        "countries[0]"
      ],
      "execution_count": 30,
      "outputs": [
        {
          "output_type": "execute_result",
          "data": {
            "text/plain": [
              "'Canada'"
            ]
          },
          "metadata": {
            "tags": []
          },
          "execution_count": 30
        }
      ]
    },
    {
      "cell_type": "markdown",
      "metadata": {
        "id": "bQM_djA33--c",
        "colab_type": "text"
      },
      "source": [
        "Notice that in Python, the first element of the list is really the \"0th\" element (this is not the case when programming in R!)\n",
        "\n",
        "You can also access parts of the list using syntax like: [0:2], [:2], [3:], [-2],[-2:].  See if you can figure out what these do."
      ]
    },
    {
      "cell_type": "code",
      "metadata": {
        "id": "P1w-jAVt3--c",
        "colab_type": "code",
        "colab": {
          "base_uri": "https://localhost:8080/",
          "height": 34
        },
        "outputId": "cfd25818-3913-4afa-aac3-968209ba6847"
      },
      "source": [
        "countries[2:4]"
      ],
      "execution_count": 31,
      "outputs": [
        {
          "output_type": "execute_result",
          "data": {
            "text/plain": [
              "['US', 'Japan']"
            ]
          },
          "metadata": {
            "tags": []
          },
          "execution_count": 31
        }
      ]
    },
    {
      "cell_type": "code",
      "metadata": {
        "id": "iKON6p_I3--e",
        "colab_type": "code",
        "colab": {
          "base_uri": "https://localhost:8080/",
          "height": 34
        },
        "outputId": "acb2c690-68f4-4a8c-af6e-8c70e2e70f66"
      },
      "source": [
        "countries[2:3]"
      ],
      "execution_count": 33,
      "outputs": [
        {
          "output_type": "execute_result",
          "data": {
            "text/plain": [
              "['US']"
            ]
          },
          "metadata": {
            "tags": []
          },
          "execution_count": 33
        }
      ]
    },
    {
      "cell_type": "code",
      "metadata": {
        "id": "VLMe6_sZmubr",
        "colab_type": "code",
        "colab": {
          "base_uri": "https://localhost:8080/",
          "height": 34
        },
        "outputId": "72b08a41-1c7b-4d26-f6da-e6167a4a17d9"
      },
      "source": [
        "type(countries[2:3])"
      ],
      "execution_count": 35,
      "outputs": [
        {
          "output_type": "execute_result",
          "data": {
            "text/plain": [
              "list"
            ]
          },
          "metadata": {
            "tags": []
          },
          "execution_count": 35
        }
      ]
    },
    {
      "cell_type": "code",
      "metadata": {
        "id": "KxL8o0zZmueh",
        "colab_type": "code",
        "colab": {
          "base_uri": "https://localhost:8080/",
          "height": 34
        },
        "outputId": "19884a01-fa2b-43d1-e8f3-22ed926d625e"
      },
      "source": [
        "countries[2:2]"
      ],
      "execution_count": 36,
      "outputs": [
        {
          "output_type": "execute_result",
          "data": {
            "text/plain": [
              "[]"
            ]
          },
          "metadata": {
            "tags": []
          },
          "execution_count": 36
        }
      ]
    },
    {
      "cell_type": "code",
      "metadata": {
        "id": "rn5aaIGgmuhk",
        "colab_type": "code",
        "colab": {}
      },
      "source": [
        "countries.append('USA')"
      ],
      "execution_count": 0,
      "outputs": []
    },
    {
      "cell_type": "markdown",
      "metadata": {
        "id": "-uQfEZhi3--g",
        "colab_type": "text"
      },
      "source": [
        "Lists come with useful functions, like `len(mylist)` which returns the length of the list.  Try using `len()`"
      ]
    },
    {
      "cell_type": "code",
      "metadata": {
        "id": "1l8dgYI-3--g",
        "colab_type": "code",
        "colab": {
          "base_uri": "https://localhost:8080/",
          "height": 34
        },
        "outputId": "0b7d687e-e30b-47ea-8c6b-3c67171219cd"
      },
      "source": [
        "countries"
      ],
      "execution_count": 40,
      "outputs": [
        {
          "output_type": "execute_result",
          "data": {
            "text/plain": [
              "['Canada', 'UK', 'USA', 'Japan', 'Korea', 'USA']"
            ]
          },
          "metadata": {
            "tags": []
          },
          "execution_count": 40
        }
      ]
    },
    {
      "cell_type": "markdown",
      "metadata": {
        "id": "53lEIr323--i",
        "colab_type": "text"
      },
      "source": [
        "What if you wanted to add an element to a list?  Or remove an element from a list?  Try using:\n",
        "\n",
        "`mylist.append(<the new element>)`\n",
        "for example, `states.append('New York')`"
      ]
    },
    {
      "cell_type": "code",
      "metadata": {
        "id": "1zzMmhQc3--k",
        "colab_type": "code",
        "colab": {}
      },
      "source": [
        "countries.insert(0, 'France')"
      ],
      "execution_count": 0,
      "outputs": []
    },
    {
      "cell_type": "code",
      "metadata": {
        "id": "8IntYCaTnw86",
        "colab_type": "code",
        "colab": {
          "base_uri": "https://localhost:8080/",
          "height": 34
        },
        "outputId": "95511b8a-3bdb-4b65-c6bb-b35ba6671411"
      },
      "source": [
        "countries"
      ],
      "execution_count": 42,
      "outputs": [
        {
          "output_type": "execute_result",
          "data": {
            "text/plain": [
              "['France', 'Canada', 'UK', 'USA', 'Japan', 'Korea', 'USA']"
            ]
          },
          "metadata": {
            "tags": []
          },
          "execution_count": 42
        }
      ]
    },
    {
      "cell_type": "code",
      "metadata": {
        "id": "a3jMHjCpnw_e",
        "colab_type": "code",
        "colab": {}
      },
      "source": [
        ""
      ],
      "execution_count": 0,
      "outputs": []
    },
    {
      "cell_type": "code",
      "metadata": {
        "id": "eLkZk0ZEnxCM",
        "colab_type": "code",
        "colab": {}
      },
      "source": [
        ""
      ],
      "execution_count": 0,
      "outputs": []
    },
    {
      "cell_type": "code",
      "metadata": {
        "id": "0bK46GcRnxEz",
        "colab_type": "code",
        "colab": {}
      },
      "source": [
        ""
      ],
      "execution_count": 0,
      "outputs": []
    },
    {
      "cell_type": "code",
      "metadata": {
        "id": "Se9yPcrQnxHQ",
        "colab_type": "code",
        "colab": {}
      },
      "source": [
        ""
      ],
      "execution_count": 0,
      "outputs": []
    },
    {
      "cell_type": "code",
      "metadata": {
        "id": "OQ_4SVsJnxJ1",
        "colab_type": "code",
        "colab": {}
      },
      "source": [
        ""
      ],
      "execution_count": 0,
      "outputs": []
    },
    {
      "cell_type": "code",
      "metadata": {
        "id": "eg3EBmeFnxMa",
        "colab_type": "code",
        "colab": {}
      },
      "source": [
        ""
      ],
      "execution_count": 0,
      "outputs": []
    },
    {
      "cell_type": "markdown",
      "metadata": {
        "collapsed": true,
        "id": "hzf2U3nM3--l",
        "colab_type": "text"
      },
      "source": [
        "There are also list functions to do things like insert, remove, sort, reverse.  You can also use the `+` operator to add lists together. You can even multiply a list by a number, similar to how earlier we multiplied a string by a number!\n",
        "\n",
        "Try adding a list of two new states to your list."
      ]
    },
    {
      "cell_type": "code",
      "metadata": {
        "id": "7Vzuhhuv3--m",
        "colab_type": "code",
        "colab": {
          "base_uri": "https://localhost:8080/",
          "height": 34
        },
        "outputId": "25a44a53-8938-4e61-ebf4-a0e2e4ea32f3"
      },
      "source": [
        "[3,'A', False] + [4,5]"
      ],
      "execution_count": 43,
      "outputs": [
        {
          "output_type": "execute_result",
          "data": {
            "text/plain": [
              "[3, 'A', False, 4, 5]"
            ]
          },
          "metadata": {
            "tags": []
          },
          "execution_count": 43
        }
      ]
    },
    {
      "cell_type": "markdown",
      "metadata": {
        "id": "ObNsGOTA3--o",
        "colab_type": "text"
      },
      "source": [
        "So far, we've only created lists of strings (text).  Do you think Python will let you have a list with a mix of different types in it (numbers, strings, other lists, etc.)?  Try it."
      ]
    },
    {
      "cell_type": "code",
      "metadata": {
        "id": "eZdwGK7B3--o",
        "colab_type": "code",
        "colab": {
          "base_uri": "https://localhost:8080/",
          "height": 164
        },
        "outputId": "4c264f06-cee5-4ec8-f74e-2aad563101b8"
      },
      "source": [
        "[3,'A', False] + 4"
      ],
      "execution_count": 44,
      "outputs": [
        {
          "output_type": "error",
          "ename": "TypeError",
          "evalue": "ignored",
          "traceback": [
            "\u001b[0;31m---------------------------------------------------------------------------\u001b[0m",
            "\u001b[0;31mTypeError\u001b[0m                                 Traceback (most recent call last)",
            "\u001b[0;32m<ipython-input-44-06c40194a024>\u001b[0m in \u001b[0;36m<module>\u001b[0;34m()\u001b[0m\n\u001b[0;32m----> 1\u001b[0;31m \u001b[0;34m[\u001b[0m\u001b[0;36m3\u001b[0m\u001b[0;34m,\u001b[0m\u001b[0;34m'A'\u001b[0m\u001b[0;34m,\u001b[0m \u001b[0;32mFalse\u001b[0m\u001b[0;34m]\u001b[0m \u001b[0;34m+\u001b[0m \u001b[0;36m4\u001b[0m\u001b[0;34m\u001b[0m\u001b[0;34m\u001b[0m\u001b[0m\n\u001b[0m",
            "\u001b[0;31mTypeError\u001b[0m: can only concatenate list (not \"int\") to list"
          ]
        }
      ]
    },
    {
      "cell_type": "code",
      "metadata": {
        "id": "PROA70CXocZ6",
        "colab_type": "code",
        "colab": {
          "base_uri": "https://localhost:8080/",
          "height": 34
        },
        "outputId": "4cd1158b-8d6c-401e-cdbd-f736d4e6a7c1"
      },
      "source": [
        "[3,'A', False] + [4]"
      ],
      "execution_count": 45,
      "outputs": [
        {
          "output_type": "execute_result",
          "data": {
            "text/plain": [
              "[3, 'A', False, 4]"
            ]
          },
          "metadata": {
            "tags": []
          },
          "execution_count": 45
        }
      ]
    },
    {
      "cell_type": "code",
      "metadata": {
        "id": "SVe5p--nofBs",
        "colab_type": "code",
        "colab": {}
      },
      "source": [
        "countries = ['Greenland','Greek'] + countries"
      ],
      "execution_count": 0,
      "outputs": []
    },
    {
      "cell_type": "code",
      "metadata": {
        "id": "YjgwI481ofE_",
        "colab_type": "code",
        "colab": {
          "base_uri": "https://localhost:8080/",
          "height": 170
        },
        "outputId": "6d62d212-ba1d-4b61-9f7f-b71ecd6e7ded"
      },
      "source": [
        "countries"
      ],
      "execution_count": 54,
      "outputs": [
        {
          "output_type": "execute_result",
          "data": {
            "text/plain": [
              "['Greenland',\n",
              " 'Greek',\n",
              " 'France',\n",
              " 'Canada',\n",
              " 'UK',\n",
              " 'USA',\n",
              " 'Japan',\n",
              " 'Korea',\n",
              " 'USA']"
            ]
          },
          "metadata": {
            "tags": []
          },
          "execution_count": 54
        }
      ]
    },
    {
      "cell_type": "code",
      "metadata": {
        "id": "cMlZ-XYtofHH",
        "colab_type": "code",
        "colab": {
          "base_uri": "https://localhost:8080/",
          "height": 34
        },
        "outputId": "13a92b1b-a042-4fb7-9477-91151f172e0e"
      },
      "source": [
        "mylist = [['a','b'],3,[1,2]]\n",
        "mylist"
      ],
      "execution_count": 56,
      "outputs": [
        {
          "output_type": "execute_result",
          "data": {
            "text/plain": [
              "[['a', 'b'], 3, [1, 2]]"
            ]
          },
          "metadata": {
            "tags": []
          },
          "execution_count": 56
        }
      ]
    },
    {
      "cell_type": "code",
      "metadata": {
        "id": "Nfq8xOyuofJn",
        "colab_type": "code",
        "colab": {
          "base_uri": "https://localhost:8080/",
          "height": 34
        },
        "outputId": "341a09cb-0c5c-4137-c808-6010fb503a70"
      },
      "source": [
        "#extracting b in the list  mylist[0] only extract the first element \n",
        "mylist[0][1]"
      ],
      "execution_count": 58,
      "outputs": [
        {
          "output_type": "execute_result",
          "data": {
            "text/plain": [
              "'b'"
            ]
          },
          "metadata": {
            "tags": []
          },
          "execution_count": 58
        }
      ]
    },
    {
      "cell_type": "code",
      "metadata": {
        "id": "mSD9NTHCofMR",
        "colab_type": "code",
        "colab": {
          "base_uri": "https://localhost:8080/",
          "height": 476
        },
        "outputId": "ad454e00-9903-483e-af12-cae84a12f2bf"
      },
      "source": [
        "countries * 3"
      ],
      "execution_count": 59,
      "outputs": [
        {
          "output_type": "execute_result",
          "data": {
            "text/plain": [
              "['Greenland',\n",
              " 'Greek',\n",
              " 'France',\n",
              " 'Canada',\n",
              " 'UK',\n",
              " 'USA',\n",
              " 'Japan',\n",
              " 'Korea',\n",
              " 'USA',\n",
              " 'Greenland',\n",
              " 'Greek',\n",
              " 'France',\n",
              " 'Canada',\n",
              " 'UK',\n",
              " 'USA',\n",
              " 'Japan',\n",
              " 'Korea',\n",
              " 'USA',\n",
              " 'Greenland',\n",
              " 'Greek',\n",
              " 'France',\n",
              " 'Canada',\n",
              " 'UK',\n",
              " 'USA',\n",
              " 'Japan',\n",
              " 'Korea',\n",
              " 'USA']"
            ]
          },
          "metadata": {
            "tags": []
          },
          "execution_count": 59
        }
      ]
    },
    {
      "cell_type": "code",
      "metadata": {
        "id": "zSIczJW9ofO5",
        "colab_type": "code",
        "colab": {}
      },
      "source": [
        ""
      ],
      "execution_count": 0,
      "outputs": []
    },
    {
      "cell_type": "code",
      "metadata": {
        "id": "my906J26ofRk",
        "colab_type": "code",
        "colab": {}
      },
      "source": [
        ""
      ],
      "execution_count": 0,
      "outputs": []
    },
    {
      "cell_type": "markdown",
      "metadata": {
        "id": "wPIiOpKl3--q",
        "colab_type": "text"
      },
      "source": [
        "Strings (like your name variable) also have some list-like behaviors, because they're lists of individual charactres.  How might you get the the n'th character from a string?"
      ]
    },
    {
      "cell_type": "code",
      "metadata": {
        "id": "B2Nmb7CJ3--q",
        "colab_type": "code",
        "colab": {
          "base_uri": "https://localhost:8080/",
          "height": 34
        },
        "outputId": "12784142-2ddb-4319-c9a8-fe866a06c552"
      },
      "source": [
        "name[1:3]  #select the spcific letter inside the nopis name"
      ],
      "execution_count": 61,
      "outputs": [
        {
          "output_type": "execute_result",
          "data": {
            "text/plain": [
              "'op'"
            ]
          },
          "metadata": {
            "tags": []
          },
          "execution_count": 61
        }
      ]
    },
    {
      "cell_type": "code",
      "metadata": {
        "id": "Zv13ZUbBqcWh",
        "colab_type": "code",
        "colab": {}
      },
      "source": [
        "name."
      ],
      "execution_count": 0,
      "outputs": []
    },
    {
      "cell_type": "code",
      "metadata": {
        "id": "SeP2ULERqcZY",
        "colab_type": "code",
        "colab": {
          "base_uri": "https://localhost:8080/",
          "height": 34
        },
        "outputId": "4e40748b-2505-49ba-adb4-464b35642a8f"
      },
      "source": [
        "countries[0][0:2]"
      ],
      "execution_count": 62,
      "outputs": [
        {
          "output_type": "execute_result",
          "data": {
            "text/plain": [
              "'Gr'"
            ]
          },
          "metadata": {
            "tags": []
          },
          "execution_count": 62
        }
      ]
    },
    {
      "cell_type": "code",
      "metadata": {
        "id": "J8XQMw7Oqcb_",
        "colab_type": "code",
        "colab": {
          "base_uri": "https://localhost:8080/",
          "height": 34
        },
        "outputId": "0319f5a4-3601-4202-a068-98ca0d2c45e3"
      },
      "source": [
        "name.endswith('i')"
      ],
      "execution_count": 64,
      "outputs": [
        {
          "output_type": "execute_result",
          "data": {
            "text/plain": [
              "True"
            ]
          },
          "metadata": {
            "tags": []
          },
          "execution_count": 64
        }
      ]
    },
    {
      "cell_type": "code",
      "metadata": {
        "id": "DNOmTbfNqce6",
        "colab_type": "code",
        "colab": {
          "base_uri": "https://localhost:8080/",
          "height": 34
        },
        "outputId": "1e4716aa-ca82-406c-b94a-1139a9a3edcd"
      },
      "source": [
        "'123'.isnumeric()"
      ],
      "execution_count": 65,
      "outputs": [
        {
          "output_type": "execute_result",
          "data": {
            "text/plain": [
              "True"
            ]
          },
          "metadata": {
            "tags": []
          },
          "execution_count": 65
        }
      ]
    },
    {
      "cell_type": "code",
      "metadata": {
        "id": "Wc01TN_OqchX",
        "colab_type": "code",
        "colab": {}
      },
      "source": [
        "zipcode = 'A20052'   #zipcode = '200d52' is ask again that would be false"
      ],
      "execution_count": 0,
      "outputs": []
    },
    {
      "cell_type": "code",
      "metadata": {
        "id": "ELsGGswPqckU",
        "colab_type": "code",
        "colab": {
          "base_uri": "https://localhost:8080/",
          "height": 34
        },
        "outputId": "68404785-6399-41d8-f3fb-549f22ffabbe"
      },
      "source": [
        "zipcode.isnumeric()"
      ],
      "execution_count": 69,
      "outputs": [
        {
          "output_type": "execute_result",
          "data": {
            "text/plain": [
              "False"
            ]
          },
          "metadata": {
            "tags": []
          },
          "execution_count": 69
        }
      ]
    },
    {
      "cell_type": "code",
      "metadata": {
        "id": "aKegFOaIqcnC",
        "colab_type": "code",
        "colab": {
          "base_uri": "https://localhost:8080/",
          "height": 34
        },
        "outputId": "a78d6e9e-d4eb-4814-fbea-ebe85491c837"
      },
      "source": [
        "zipcode.find('3')"
      ],
      "execution_count": 73,
      "outputs": [
        {
          "output_type": "execute_result",
          "data": {
            "text/plain": [
              "-1"
            ]
          },
          "metadata": {
            "tags": []
          },
          "execution_count": 73
        }
      ]
    },
    {
      "cell_type": "code",
      "metadata": {
        "id": "LWBz10smqcp4",
        "colab_type": "code",
        "colab": {
          "base_uri": "https://localhost:8080/",
          "height": 34
        },
        "outputId": "a364db06-888f-45bb-eed8-6e285ff4f560"
      },
      "source": [
        "'200' in zipcode"
      ],
      "execution_count": 76,
      "outputs": [
        {
          "output_type": "execute_result",
          "data": {
            "text/plain": [
              "True"
            ]
          },
          "metadata": {
            "tags": []
          },
          "execution_count": 76
        }
      ]
    },
    {
      "cell_type": "code",
      "metadata": {
        "id": "s593-7B0qcsf",
        "colab_type": "code",
        "colab": {}
      },
      "source": [
        ""
      ],
      "execution_count": 0,
      "outputs": []
    },
    {
      "cell_type": "code",
      "metadata": {
        "id": "4Xf6FN19qcvu",
        "colab_type": "code",
        "colab": {}
      },
      "source": [
        ""
      ],
      "execution_count": 0,
      "outputs": []
    },
    {
      "cell_type": "markdown",
      "metadata": {
        "id": "AtqTtIkR3--s",
        "colab_type": "text"
      },
      "source": [
        "### Tuples\n",
        "\n",
        "Notice that we created a list using [] square brackets.  If we use () parentheses, we create what's called a *tuple*.  A tuple might be something like this:"
      ]
    },
    {
      "cell_type": "code",
      "metadata": {
        "id": "BpsG6_Rb3--u",
        "colab_type": "code",
        "colab": {}
      },
      "source": [
        "colors = ('blue', 'green', 'red')"
      ],
      "execution_count": 0,
      "outputs": []
    },
    {
      "cell_type": "markdown",
      "metadata": {
        "id": "BFQtx0XY3--v",
        "colab_type": "text"
      },
      "source": [
        "Notice that tuples are like lists: you can access elements, etc.  But what if you try to append to a tuple?"
      ]
    },
    {
      "cell_type": "markdown",
      "metadata": {
        "id": "wWgGPRMr3--x",
        "colab_type": "text"
      },
      "source": [
        "### The \"in\" operator\n",
        "\n",
        "We can use `in` to see whether an element is found in a list.  Try running this:"
      ]
    },
    {
      "cell_type": "code",
      "metadata": {
        "id": "KQ3CpNco3--y",
        "colab_type": "code",
        "colab": {}
      },
      "source": [
        "'yellow' in colors"
      ],
      "execution_count": 0,
      "outputs": []
    },
    {
      "cell_type": "markdown",
      "metadata": {
        "collapsed": true,
        "id": "yK9qVYSV3--0",
        "colab_type": "text"
      },
      "source": [
        "# Dictionaries\n",
        "\n",
        "A **Dictionary** is a container that holds pairs of objects - keys and values.  Keys may be strings or numbers.  A value may be any type, whether an integer, string, boolean, list, etc.  It can even be another dictionary!\n",
        "\n",
        "Here's an example of a dictionary:"
      ]
    },
    {
      "cell_type": "code",
      "metadata": {
        "id": "PYOxILdR3--0",
        "colab_type": "code",
        "colab": {}
      },
      "source": [
        "workshop = {'name': 'Programming With Python',\n",
        "            'duration': 2,\n",
        "            'instructors': ['Dan', 'Laura', 'Dolsy', 'Nopi'],\n",
        "            'awesome': True}"
      ],
      "execution_count": 0,
      "outputs": []
    },
    {
      "cell_type": "markdown",
      "metadata": {
        "collapsed": true,
        "id": "gRKrDjY53--4",
        "colab_type": "text"
      },
      "source": [
        "So dictionaries are very similar to lists, except that they're indexed with keys.\n",
        "\n",
        "Dictionaries are actually data structures that can represent objects in **JSON** (JavaScript Object Notation) format, which today is a very common way of representing data!\n",
        "\n",
        "How do you think you would access the value of `'instructors'` key from the `workshop` dictionary?"
      ]
    },
    {
      "cell_type": "code",
      "metadata": {
        "id": "H3eEDCnw3--4",
        "colab_type": "code",
        "colab": {
          "base_uri": "https://localhost:8080/",
          "height": 34
        },
        "outputId": "d2be9dd3-ca9e-41fd-b8e7-9812feb81ce9"
      },
      "source": [
        "workshop['instructors']  #extract the key"
      ],
      "execution_count": 82,
      "outputs": [
        {
          "output_type": "execute_result",
          "data": {
            "text/plain": [
              "['Dan', 'Laura', 'Dolsy', 'Nopi']"
            ]
          },
          "metadata": {
            "tags": []
          },
          "execution_count": 82
        }
      ]
    },
    {
      "cell_type": "markdown",
      "metadata": {
        "id": "2VY6VvO13--6",
        "colab_type": "text"
      },
      "source": [
        "How do you think you would ***add*** an item to the dictionary?  Try adding a 'location' item.  How about replacing an item?"
      ]
    },
    {
      "cell_type": "code",
      "metadata": {
        "id": "MnD0rUZQu5on",
        "colab_type": "code",
        "colab": {}
      },
      "source": [
        "workshop['location'] = 'Gelamn Library'"
      ],
      "execution_count": 0,
      "outputs": []
    },
    {
      "cell_type": "code",
      "metadata": {
        "id": "vN4C-izTu5t6",
        "colab_type": "code",
        "colab": {
          "base_uri": "https://localhost:8080/",
          "height": 102
        },
        "outputId": "a74b8dc6-5aef-4f4e-f8c8-7a6c9030cd7b"
      },
      "source": [
        "workshop"
      ],
      "execution_count": 86,
      "outputs": [
        {
          "output_type": "execute_result",
          "data": {
            "text/plain": [
              "{'awesome': True,\n",
              " 'duration': 2,\n",
              " 'instructors': ['Dan', 'Laura', 'Dolsy', 'Nopi'],\n",
              " 'location': 'Gelamn Library',\n",
              " 'name': 'Programming With Python'}"
            ]
          },
          "metadata": {
            "tags": []
          },
          "execution_count": 86
        }
      ]
    },
    {
      "cell_type": "code",
      "metadata": {
        "id": "VXn_SzGxu5w0",
        "colab_type": "code",
        "colab": {}
      },
      "source": [
        "workshop['instructors']  = workshop['instructors'] + ['Taylor', 'Tyler']\n",
        "workshop['majors'] = 'Business'"
      ],
      "execution_count": 0,
      "outputs": []
    },
    {
      "cell_type": "code",
      "metadata": {
        "id": "4JXsRFpFu506",
        "colab_type": "code",
        "colab": {}
      },
      "source": [
        "workshop['instructors'].extend(['Susan','Sam'])   # add new elements into the list "
      ],
      "execution_count": 0,
      "outputs": []
    },
    {
      "cell_type": "code",
      "metadata": {
        "id": "Xa8lYhibu53q",
        "colab_type": "code",
        "colab": {
          "base_uri": "https://localhost:8080/",
          "height": 289
        },
        "outputId": "ab5b56ce-4918-44c4-df37-2026d23af57b"
      },
      "source": [
        "workshop"
      ],
      "execution_count": 96,
      "outputs": [
        {
          "output_type": "execute_result",
          "data": {
            "text/plain": [
              "{'awesome': True,\n",
              " 'duration': 2,\n",
              " 'instructors': ['Dan',\n",
              "  'Laura',\n",
              "  'Dolsy',\n",
              "  'Nopi',\n",
              "  'Taylor',\n",
              "  'Tyler',\n",
              "  'Susan',\n",
              "  'Sam',\n",
              "  'Susan',\n",
              "  'Sam'],\n",
              " 'location': 'Gelamn Library',\n",
              " 'majors': 'Business',\n",
              " 'name': 'Programming With Python',\n",
              " 'time': '15:50'}"
            ]
          },
          "metadata": {
            "tags": []
          },
          "execution_count": 96
        }
      ]
    },
    {
      "cell_type": "code",
      "metadata": {
        "id": "HQnN1okJu56T",
        "colab_type": "code",
        "colab": {
          "base_uri": "https://localhost:8080/",
          "height": 34
        },
        "outputId": "887ce302-71ca-4c09-ce1b-84ceb6e1bab2"
      },
      "source": [
        "2 in workshop.values()"
      ],
      "execution_count": 100,
      "outputs": [
        {
          "output_type": "execute_result",
          "data": {
            "text/plain": [
              "True"
            ]
          },
          "metadata": {
            "tags": []
          },
          "execution_count": 100
        }
      ]
    },
    {
      "cell_type": "code",
      "metadata": {
        "id": "C1VjHwjTu5zR",
        "colab_type": "code",
        "colab": {}
      },
      "source": [
        ""
      ],
      "execution_count": 0,
      "outputs": []
    },
    {
      "cell_type": "code",
      "metadata": {
        "id": "TpN-PoYHu5r2",
        "colab_type": "code",
        "colab": {}
      },
      "source": [
        ""
      ],
      "execution_count": 0,
      "outputs": []
    },
    {
      "cell_type": "code",
      "metadata": {
        "id": "19V7U78b3--7",
        "colab_type": "code",
        "colab": {}
      },
      "source": [
        ""
      ],
      "execution_count": 0,
      "outputs": []
    },
    {
      "cell_type": "markdown",
      "metadata": {
        "collapsed": true,
        "id": "cBRuUUgb3--9",
        "colab_type": "text"
      },
      "source": [
        "### Challenge\n",
        "\n",
        "How might you add two more names to the list of instructors?  (Challenge:  Try to do this in one line, *without* just overriding the list of instructors)"
      ]
    },
    {
      "cell_type": "code",
      "metadata": {
        "id": "svn_3DI83---",
        "colab_type": "code",
        "colab": {}
      },
      "source": [
        ""
      ],
      "execution_count": 0,
      "outputs": []
    },
    {
      "cell_type": "markdown",
      "metadata": {
        "id": "wzTveZhQ3-_C",
        "colab_type": "text"
      },
      "source": [
        "We can also look up whether a certain key exists in a dictionary.  How might you evaluate whether or not `workshop` contains a `location` key?"
      ]
    },
    {
      "cell_type": "code",
      "metadata": {
        "id": "KHGH6NWc3-_D",
        "colab_type": "code",
        "colab": {}
      },
      "source": [
        ""
      ],
      "execution_count": 0,
      "outputs": []
    },
    {
      "cell_type": "markdown",
      "metadata": {
        "id": "HLItTaYq3-_G",
        "colab_type": "text"
      },
      "source": [
        "# Comments\n",
        "\n",
        "Comment lines start with `#`.  They don't execute any code, but it's a very good idea to comment your code so that the reader (which might be your future self) can understand anything that's not already obvious from your clear and well-written code."
      ]
    },
    {
      "cell_type": "code",
      "metadata": {
        "id": "htTaGJwK3-_G",
        "colab_type": "code",
        "colab": {}
      },
      "source": [
        "# This is a comment and is here for the reader's benefit"
      ],
      "execution_count": 0,
      "outputs": []
    },
    {
      "cell_type": "markdown",
      "metadata": {
        "id": "gSIbXT1H3-_I",
        "colab_type": "text"
      },
      "source": [
        "# Iteration (looping)\n",
        "\n",
        "Iteration allows us to repeat over a section of code, and iterate through a list (or other \"iterable\") at the same time.  **`for`** and **`while`** create iterations, like this:\n",
        "\n",
        "```\n",
        "numbers = [4, 6, 0, 5.5, 3]\n",
        "for n in numbers:\n",
        "    print(\"The next number in the list, squared is \", n**2)\n",
        "    \n",
        "print(\"We're done iterating -- notice that this line isn't indented, so it's outside the loop\")\n",
        "```    \n",
        "\n",
        "and this brings up the topic of **indentation**!  The block (i.e., lines) of code that you're iterating over needs to be indented.  In Python, you should indent by 4 spaces.\n",
        "\n",
        "Try creating a list of exam scores that we'd like to grade on a curve.  Use `max()` to find out the highest score.  Then create an iteration that prints out the score as well as the score graded on a curve (by dividing by the highest score).\n"
      ]
    },
    {
      "cell_type": "code",
      "metadata": {
        "id": "cB9e2EI73-_J",
        "colab_type": "code",
        "colab": {
          "base_uri": "https://localhost:8080/",
          "height": 136
        },
        "outputId": "79d9e6b7-5b2d-4b5b-d33f-f4708e779973"
      },
      "source": [
        "scores = [86,88,90,15,57,68,98]\n",
        "\n",
        "highest_score = max(scores)\n",
        "\n",
        "\n",
        "for x in scores:\n",
        "  curved_score = 100*x/highest_score\n",
        "  print(curved_score)"
      ],
      "execution_count": 108,
      "outputs": [
        {
          "output_type": "stream",
          "text": [
            "87.75510204081633\n",
            "89.79591836734694\n",
            "91.83673469387755\n",
            "15.306122448979592\n",
            "58.16326530612245\n",
            "69.38775510204081\n",
            "100.0\n"
          ],
          "name": "stdout"
        }
      ]
    },
    {
      "cell_type": "code",
      "metadata": {
        "id": "4x_EHB0E3-_K",
        "colab_type": "code",
        "colab": {
          "base_uri": "https://localhost:8080/",
          "height": 34
        },
        "outputId": "bc697032-8bc9-486e-96e4-37eebf85f74e"
      },
      "source": [
        "x"
      ],
      "execution_count": 109,
      "outputs": [
        {
          "output_type": "execute_result",
          "data": {
            "text/plain": [
              "98"
            ]
          },
          "metadata": {
            "tags": []
          },
          "execution_count": 109
        }
      ]
    },
    {
      "cell_type": "code",
      "metadata": {
        "id": "3Lgp854N3-_O",
        "colab_type": "code",
        "colab": {}
      },
      "source": [
        ""
      ],
      "execution_count": 0,
      "outputs": []
    },
    {
      "cell_type": "markdown",
      "metadata": {
        "id": "XWIo1pp63-_R",
        "colab_type": "text"
      },
      "source": [
        "Iterating over dictionaries is slightly different:\n"
      ]
    },
    {
      "cell_type": "code",
      "metadata": {
        "id": "ajcpjk-y3-_S",
        "colab_type": "code",
        "colab": {}
      },
      "source": [
        "for key, value in workshop.items():\n",
        "    print (\"The key is \", key, \" and the value is \", value)"
      ],
      "execution_count": 0,
      "outputs": []
    },
    {
      "cell_type": "markdown",
      "metadata": {
        "id": "KuMsoqE13-_V",
        "colab_type": "text"
      },
      "source": [
        "Notice that dictionaries are unordered.  There's no guarantee about what order the iterator will yield the dictionary items to you in."
      ]
    },
    {
      "cell_type": "markdown",
      "metadata": {
        "id": "1iLUd1sm3-_W",
        "colab_type": "text"
      },
      "source": [
        "### Another way to iterate: `while`"
      ]
    },
    {
      "cell_type": "markdown",
      "metadata": {
        "id": "rKM4VW1a3-_W",
        "colab_type": "text"
      },
      "source": [
        "What if we don't have a list or other \"iterable\" for our for loop to iterate over? In that case, you can also loop using **`while`**."
      ]
    },
    {
      "cell_type": "markdown",
      "metadata": {
        "id": "vP__9XLG3-_X",
        "colab_type": "text"
      },
      "source": [
        "Let's keep adding random numbers (between 1 and 10) until the sum hits at least 50.  We can use Python's `random` library, which we first need to import:"
      ]
    },
    {
      "cell_type": "code",
      "metadata": {
        "id": "rEL49SnT3-_Y",
        "colab_type": "code",
        "colab": {}
      },
      "source": [
        "import random"
      ],
      "execution_count": 0,
      "outputs": []
    },
    {
      "cell_type": "code",
      "metadata": {
        "id": "bzXjGNYy3-_e",
        "colab_type": "code",
        "outputId": "c3b8583c-313e-4861-d30d-b57e08ec8daf",
        "colab": {}
      },
      "source": [
        "random.randint(1,10)"
      ],
      "execution_count": 0,
      "outputs": [
        {
          "output_type": "execute_result",
          "data": {
            "text/plain": [
              "4"
            ]
          },
          "metadata": {
            "tags": []
          },
          "execution_count": 18
        }
      ]
    },
    {
      "cell_type": "markdown",
      "metadata": {
        "id": "ePNCscCD3-_j",
        "colab_type": "text"
      },
      "source": [
        "Now for the `while` loop:"
      ]
    },
    {
      "cell_type": "code",
      "metadata": {
        "id": "UyMM99xtbIJK",
        "colab_type": "code",
        "colab": {}
      },
      "source": [
        "#total_so_far = 0\n",
        "while total_so_far < 50:\n",
        "  print(\"Total so far is \", total_so_far)\n",
        "  total_so_far = total_so_far + random.randint(1, 10)\n",
        "\n",
        "print(\"Final total is \", total_so_far)\n",
        "\n"
      ],
      "execution_count": 0,
      "outputs": []
    },
    {
      "cell_type": "markdown",
      "metadata": {
        "id": "CjjDvjIM3-_l",
        "colab_type": "text"
      },
      "source": [
        "### A random side note:\n",
        "    \n",
        "Try running the cell above with `random.randint(1,10)` again and again.  In a scientific setting, how might you ensure that your random sequence is \"repeatable\"?"
      ]
    },
    {
      "cell_type": "markdown",
      "metadata": {
        "id": "vx4AjHrt3-_m",
        "colab_type": "text"
      },
      "source": [
        "### Another use of while:"
      ]
    },
    {
      "cell_type": "markdown",
      "metadata": {
        "id": "H3nPfMFJ3-_n",
        "colab_type": "text"
      },
      "source": [
        "One way you might see `while` used is with **`while True`** which just continues indefinitely:"
      ]
    },
    {
      "cell_type": "code",
      "metadata": {
        "id": "r3ZC3GJP3-_o",
        "colab_type": "code",
        "outputId": "8758543d-0970-4b3a-991e-eb542d0d9bfd",
        "colab": {
          "base_uri": "https://localhost:8080/",
          "height": 232
        }
      },
      "source": [
        "lucky_number = 7\n",
        "\n",
        "while True:\n",
        "    a_number = random.randint(1,10)\n",
        "    if a_number != lucky_number:\n",
        "        print(\"Darn! Didn't get a\", lucky_number)\n",
        "    else:\n",
        "        print(\"Got a lucky\", lucky_number,\"-- Taking my winnings and quitting the while loop.\")\n",
        "        break"
      ],
      "execution_count": 112,
      "outputs": [
        {
          "output_type": "error",
          "ename": "NameError",
          "evalue": "ignored",
          "traceback": [
            "\u001b[0;31m---------------------------------------------------------------------------\u001b[0m",
            "\u001b[0;31mNameError\u001b[0m                                 Traceback (most recent call last)",
            "\u001b[0;32m<ipython-input-112-ad40decf01fb>\u001b[0m in \u001b[0;36m<module>\u001b[0;34m()\u001b[0m\n\u001b[1;32m      2\u001b[0m \u001b[0;34m\u001b[0m\u001b[0m\n\u001b[1;32m      3\u001b[0m \u001b[0;32mwhile\u001b[0m \u001b[0;32mTrue\u001b[0m\u001b[0;34m:\u001b[0m\u001b[0;34m\u001b[0m\u001b[0;34m\u001b[0m\u001b[0m\n\u001b[0;32m----> 4\u001b[0;31m     \u001b[0ma_number\u001b[0m \u001b[0;34m=\u001b[0m \u001b[0mrandom\u001b[0m\u001b[0;34m.\u001b[0m\u001b[0mrandint\u001b[0m\u001b[0;34m(\u001b[0m\u001b[0;36m1\u001b[0m\u001b[0;34m,\u001b[0m\u001b[0;36m10\u001b[0m\u001b[0;34m)\u001b[0m\u001b[0;34m\u001b[0m\u001b[0;34m\u001b[0m\u001b[0m\n\u001b[0m\u001b[1;32m      5\u001b[0m     \u001b[0;32mif\u001b[0m \u001b[0ma_number\u001b[0m \u001b[0;34m!=\u001b[0m \u001b[0mlucky_number\u001b[0m\u001b[0;34m:\u001b[0m\u001b[0;34m\u001b[0m\u001b[0;34m\u001b[0m\u001b[0m\n\u001b[1;32m      6\u001b[0m         \u001b[0mprint\u001b[0m\u001b[0;34m(\u001b[0m\u001b[0;34m\"Darn! Didn't get a\"\u001b[0m\u001b[0;34m,\u001b[0m \u001b[0mlucky_number\u001b[0m\u001b[0;34m)\u001b[0m\u001b[0;34m\u001b[0m\u001b[0;34m\u001b[0m\u001b[0m\n",
            "\u001b[0;31mNameError\u001b[0m: name 'random' is not defined"
          ]
        }
      ]
    },
    {
      "cell_type": "markdown",
      "metadata": {
        "id": "P-XGL6w03-_u",
        "colab_type": "text"
      },
      "source": [
        "What does the `break` statement do?"
      ]
    },
    {
      "cell_type": "markdown",
      "metadata": {
        "id": "68-RHxdY3-_w",
        "colab_type": "text"
      },
      "source": [
        "## Conditionals\n",
        "\n",
        "Notice that in the example above, we snuck in the use of **`if`** and **`else`**.  Conditional expressions, using `if`, `else`, and `elif` (a contraction of \"else if\") allow us to execute blocks of code only if the condition is true.\n",
        "\n",
        "Create some code that iterates through a list of exam scores.  If a score is 70 or above, it should print out \"Pass!\"  If it's below 70, it should print out \"Fail!\""
      ]
    },
    {
      "cell_type": "code",
      "metadata": {
        "id": "3SXK9Mlj3-_x",
        "colab_type": "code",
        "colab": {
          "base_uri": "https://localhost:8080/",
          "height": 119
        },
        "outputId": "04f48f79-a3c5-401a-8167-049bfc6d9f66"
      },
      "source": [
        "scores = [61, 95, 70, 80, 85, 99]\n",
        "\n",
        "  \n",
        "for s in scores:\n",
        "  if s >= 90:\n",
        "    print('Great')\n",
        "  elif s >= 70 and s <= 90:\n",
        "    print('Not too good')\n",
        "  else:\n",
        "    print('You need to review this materisal')"
      ],
      "execution_count": 111,
      "outputs": [
        {
          "output_type": "stream",
          "text": [
            "You need to review this materisal\n",
            "Great\n",
            "Not too good\n",
            "Not too good\n",
            "Not too good\n",
            "Great\n"
          ],
          "name": "stdout"
        }
      ]
    },
    {
      "cell_type": "markdown",
      "metadata": {
        "id": "yWD7Vgst3-_z",
        "colab_type": "text"
      },
      "source": [
        "## Functions\n",
        "\n",
        "We've already seen some built-in functions, such as `print()`, `max()`, and `len()`.  But Python is meant to be used with more than just its built-in functions.\n",
        "\n",
        "Let's try to take the square root of a number in Python, using `sqrt()`:"
      ]
    },
    {
      "cell_type": "code",
      "metadata": {
        "id": "myIRws_q3-_2",
        "colab_type": "code",
        "colab": {}
      },
      "source": [
        ""
      ],
      "execution_count": 0,
      "outputs": []
    },
    {
      "cell_type": "markdown",
      "metadata": {
        "id": "frfNuKfY3-_6",
        "colab_type": "text"
      },
      "source": [
        "What happened?  But I googled and saw that the square root function in Python is called `sqrt()`!\n",
        "\n",
        "### Importing libraries and using their functions\n",
        "\n",
        "Libraries are sets of Python functions that you can \"import\" to make available and use with *your* code.\n",
        "\n",
        "There are libraries that are part of Python, such as `math`, and libraries that other people write, such as `numpy`.\n",
        "\n",
        "We can import the math library into our code with:\n",
        "\n",
        "```import math```\n",
        "\n",
        "Each time we call a function that's in a library, we use the syntax ***LibraryName.FunctionName***. Adding the library name with a . before the function name tells Python where to find the function.\n",
        "\n",
        "Let's try taking that square root again:"
      ]
    },
    {
      "cell_type": "code",
      "metadata": {
        "id": "RyEU0Ta83-_7",
        "colab_type": "code",
        "colab": {
          "base_uri": "https://localhost:8080/",
          "height": 34
        },
        "outputId": "863e1edb-3121-4832-c8de-d9e4d7bcdfc3"
      },
      "source": [
        "import math as m\n",
        "m.sqrt(25)"
      ],
      "execution_count": 117,
      "outputs": [
        {
          "output_type": "execute_result",
          "data": {
            "text/plain": [
              "5.0"
            ]
          },
          "metadata": {
            "tags": []
          },
          "execution_count": 117
        }
      ]
    },
    {
      "cell_type": "code",
      "metadata": {
        "id": "EMi_z9S23-_-",
        "colab_type": "code",
        "colab": {}
      },
      "source": [
        "def "
      ],
      "execution_count": 0,
      "outputs": []
    },
    {
      "cell_type": "markdown",
      "metadata": {
        "id": "c0VFkQQK3_AC",
        "colab_type": "text"
      },
      "source": [
        "And if we want, we can do something like this:\n",
        "\n",
        "```from math import sqrt```\n",
        "\n",
        "See if you can figure out what effect that had:"
      ]
    },
    {
      "cell_type": "code",
      "metadata": {
        "id": "t64EaSE23_AD",
        "colab_type": "code",
        "colab": {}
      },
      "source": [
        ""
      ],
      "execution_count": 0,
      "outputs": []
    },
    {
      "cell_type": "markdown",
      "metadata": {
        "id": "Nl12CtpR3_AH",
        "colab_type": "text"
      },
      "source": [
        "When might you choose\n",
        "\n",
        "```import some_library```\n",
        "\n",
        "versus\n",
        "\n",
        "```from some_library import some_function```\n",
        "\n",
        "or even\n",
        "\n",
        "```from some_library import *``` ?"
      ]
    },
    {
      "cell_type": "markdown",
      "metadata": {
        "id": "CX966Y2x3_AH",
        "colab_type": "text"
      },
      "source": [
        "### Writing our own functions\n",
        "\n",
        "What if we want to write our own functions?\n",
        "\n",
        "Defining part of a program in Python as a function is done using the `def` keyword. For example a function that takes a temperature in degrees Fahrenheit and returns the temperature in degrees Celsius:"
      ]
    },
    {
      "cell_type": "code",
      "metadata": {
        "id": "V5_TRo5m3_AI",
        "colab_type": "code",
        "colab": {}
      },
      "source": [
        "def fahreinheit2celsius(temp_fahr):\n",
        "    temp_celsius = (temp_fahr-32)*5/9\n",
        "    return temp_celsius"
      ],
      "execution_count": 0,
      "outputs": []
    },
    {
      "cell_type": "markdown",
      "metadata": {
        "id": "7vkUoEVj3_AK",
        "colab_type": "text"
      },
      "source": [
        "Now we can use it:"
      ]
    },
    {
      "cell_type": "code",
      "metadata": {
        "id": "9jZ9c_DV3_AM",
        "colab_type": "code",
        "colab": {}
      },
      "source": [
        "c = fahreinheit2celsius(100)\n",
        "print(c)"
      ],
      "execution_count": 0,
      "outputs": []
    },
    {
      "cell_type": "markdown",
      "metadata": {
        "id": "4OepVVOi3_AQ",
        "colab_type": "text"
      },
      "source": [
        "### What's variable \"scope\"?"
      ]
    },
    {
      "cell_type": "markdown",
      "metadata": {
        "id": "XdushatC3_AS",
        "colab_type": "text"
      },
      "source": [
        "Let's say we had defined our function like this, using a variable called `ratio` instead of `5/9`:"
      ]
    },
    {
      "cell_type": "code",
      "metadata": {
        "id": "DsarEKmX3_AU",
        "colab_type": "code",
        "colab": {}
      },
      "source": [
        "def fahreinheit2celsius(temp_fahr):\n",
        "    ratio = 5/9\n",
        "    temp_celsius = (temp_fahr-32)*ratio\n",
        "    return temp_celsius"
      ],
      "execution_count": 0,
      "outputs": []
    },
    {
      "cell_type": "markdown",
      "metadata": {
        "id": "yW-oe1L53_AX",
        "colab_type": "text"
      },
      "source": [
        "What happens if we then try to print `ratio`?"
      ]
    },
    {
      "cell_type": "code",
      "metadata": {
        "id": "j-NKGKtU3_AX",
        "colab_type": "code",
        "colab": {}
      },
      "source": [
        "print(ratio)"
      ],
      "execution_count": 0,
      "outputs": []
    },
    {
      "cell_type": "markdown",
      "metadata": {
        "id": "WC9o75sM3_Aa",
        "colab_type": "text"
      },
      "source": [
        "Why did we get this error?"
      ]
    },
    {
      "cell_type": "markdown",
      "metadata": {
        "id": "g9N_jn5N3_Ab",
        "colab_type": "text"
      },
      "source": [
        "### A bit more about passing values to functions\n",
        "\n",
        "Remember earlier how we graded test scores on a curve?  Let's make a function to do that.  We'll pass it the individual test score, and the top score that will be our new \"100%\":"
      ]
    },
    {
      "cell_type": "code",
      "metadata": {
        "id": "-GcixbEK3_Ab",
        "colab_type": "code",
        "colab": {}
      },
      "source": [
        "def curve(score, top_score):\n",
        "    return 100*score/top_score"
      ],
      "execution_count": 0,
      "outputs": []
    },
    {
      "cell_type": "code",
      "metadata": {
        "id": "P0R-7Yj23_Ae",
        "colab_type": "code",
        "colab": {}
      },
      "source": [
        "curve(89, 96)"
      ],
      "execution_count": 0,
      "outputs": []
    },
    {
      "cell_type": "markdown",
      "metadata": {
        "id": "NUToYKAP3_Ah",
        "colab_type": "text"
      },
      "source": [
        "Now, if we specify which parameter is which, we can pass them in any order we like!"
      ]
    },
    {
      "cell_type": "code",
      "metadata": {
        "id": "d7FBU31y3_Ah",
        "colab_type": "code",
        "colab": {}
      },
      "source": [
        "curve(top_score=96, score=89)"
      ],
      "execution_count": 0,
      "outputs": []
    },
    {
      "cell_type": "markdown",
      "metadata": {
        "id": "nxyRDcl-3_Aj",
        "colab_type": "text"
      },
      "source": [
        "Key points here:\n",
        "\n",
        "- definition starts with **`def`**\n",
        "- function body is indented\n",
        "- parameters are matched \"in order\", unless we specify them by name\n",
        "- **`return`** keyword precedes returned value\n"
      ]
    },
    {
      "cell_type": "markdown",
      "metadata": {
        "id": "oJE-7t2j3_Aj",
        "colab_type": "text"
      },
      "source": [
        "## Challenge - Putting some skills together\n",
        "\n",
        "Can you create a function called `pad` that would take a list and pads it with some new item if it's less than the length you want?  You would use it like this:\n",
        "\n",
        "```\n",
        "names = ['Ali', 'Bob', 'Carla']\n",
        "names = pad(names, 5, '*')\n",
        "```\n",
        "Then `names` would evaluate to:\n",
        "```\n",
        "['Ali', 'Bob', 'Carla', '*', '*']\n",
        "```"
      ]
    },
    {
      "cell_type": "code",
      "metadata": {
        "id": "LyrlNFh7Je9u",
        "colab_type": "code",
        "colab": {
          "base_uri": "https://localhost:8080/",
          "height": 130
        },
        "outputId": "a8d00647-9d03-432c-915e-8604403251d8"
      },
      "source": [
        "def pad(name_list, description_length, pad_string):\n",
        "#fifure out how much longer the list needs to be\n",
        " pad_length = desired_length- len(name_lists)\n",
        "  #crteat the eatra list\n",
        "\n",
        "  \n",
        "  if (pad_length < 0)\n",
        "  "
      ],
      "execution_count": 125,
      "outputs": [
        {
          "output_type": "error",
          "ename": "SyntaxError",
          "evalue": "ignored",
          "traceback": [
            "\u001b[0;36m  File \u001b[0;32m\"<ipython-input-125-f1f57ddee1d2>\"\u001b[0;36m, line \u001b[0;32m4\u001b[0m\n\u001b[0;31m    pad_list =\u001b[0m\n\u001b[0m               ^\u001b[0m\n\u001b[0;31mSyntaxError\u001b[0m\u001b[0;31m:\u001b[0m invalid syntax\n"
          ]
        }
      ]
    },
    {
      "cell_type": "code",
      "metadata": {
        "id": "IjVCOVNs3_Ak",
        "colab_type": "code",
        "colab": {}
      },
      "source": [
        "\n",
        "#fig_st[]"
      ],
      "execution_count": 0,
      "outputs": []
    },
    {
      "cell_type": "code",
      "metadata": {
        "id": "tgrmuzBt3_Am",
        "colab_type": "code",
        "colab": {}
      },
      "source": [
        ""
      ],
      "execution_count": 0,
      "outputs": []
    },
    {
      "cell_type": "code",
      "metadata": {
        "id": "Ekuc46643_Ao",
        "colab_type": "code",
        "colab": {}
      },
      "source": [
        ""
      ],
      "execution_count": 0,
      "outputs": []
    }
  ]
}